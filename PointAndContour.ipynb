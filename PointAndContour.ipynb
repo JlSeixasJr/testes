{
 "cells": [
  {
   "cell_type": "code",
   "execution_count": null,
   "metadata": {},
   "outputs": [],
   "source": [
    "import cv2\n",
    "import imutils\n",
    "import numpy as np\n",
    "import math\n",
    "\n",
    "#path = \"/Users/joseluis/Desktop/Database/train/Cabernet/IMG_6296.png\"\n",
    "#path = \"/Users/joseluis/Desktop/Database/train/Cabernet/IMG_6300.png\"\n",
    "#path = \"/Users/joseluis/Desktop/Database/train/Cabernet/IMG_6352.png\"\n",
    "#path = \"/Users/joseluis/Desktop/Database/train/Kekfrankos/IMG_6393.png\"\n",
    "#path = \"/Users/joseluis/Desktop/Database/train/Kekfrankos/IMG_6435.png\"\n",
    "#path = \"/Users/joseluis/Desktop/Database/train/Kekfrankos/IMG_6469.png\"\n",
    "#path = \"/Users/joseluis/Desktop/Database/train/Sargamuskotaly/IMG_6490.png\"\n",
    "#path = \"/Users/joseluis/Desktop/Database/train/Sargamuskotaly/IMG_6496.png\"\n",
    "#path = \"/Users/joseluis/Desktop/Database/train/Sargamuskotaly/IMG_6559.png\"\n",
    "#path = \"/Users/joseluis/Desktop/Database/train/Szurkebarat/IMG_6053.png\"\n",
    "path = \"/Users/joseluis/Desktop/Database/train/Szurkebarat/IMG_6066.png\"\n",
    "#path = \"/Users/joseluis/Desktop/Database/train/Szurkebarat/IMG_6070.png\" x\n",
    "#path = \"/Users/joseluis/Desktop/Database/train/Tramini/IMG_6166.png\"\n",
    "#path = \"/Users/joseluis/Desktop/Database/train/Tramini/IMG_6206.png\"\n",
    "#path = \"/Users/joseluis/Desktop/Database/train/Tramini/IMG_6249.png\"\n",
    "\n",
    "from matplotlib.pyplot import imshow\n",
    "%matplotlib inline\n",
    "\n",
    "white = [255,255,255]\n",
    "\n",
    "def blank(imagem):\n",
    "    r, c = imagem.shape\n",
    "    for i in range(r):\n",
    "        for j in range(c):\n",
    "            if (imagem[i][j] != 0):\n",
    "                return False\n",
    "            \n",
    "    return True\n",
    "\n",
    "def lastPoint(imagem):\n",
    "    out = imagem.copy()\n",
    "    while(True):\n",
    "#         cv2.imshow(\"Erode\", out)\n",
    "#         cv2.waitKey(0)\n",
    "        res = cv2.erode(out, cv2.getStructuringElement(cv2.MORPH_CROSS,(3,3)))\n",
    "        if blank(res):\n",
    "            #print(\"Teste\")\n",
    "            r, c = imagem.shape\n",
    "            for i in range(r):\n",
    "                for j in range(c):\n",
    "                    if (out[i,j]==white).all():\n",
    "                        return i, j, out\n",
    "        else:\n",
    "            out = res\n",
    "            \n",
    "    #return out\n",
    "\n",
    "mat = cv2.imread(path)  \n",
    "#print(path)\n",
    "imshow(mat)"
   ]
  },
  {
   "cell_type": "code",
   "execution_count": null,
   "metadata": {},
   "outputs": [],
   "source": [
    "mRows, mCols, mType = mat.shape\n",
    "if mRows>mCols:\n",
    "    mat = imutils.resize(mat, width=300)\n",
    "else:\n",
    "    mat = imutils.resize(mat, height=300)\n",
    "\n",
    "img = mat.copy()\n",
    "imshow(img)"
   ]
  },
  {
   "cell_type": "code",
   "execution_count": null,
   "metadata": {},
   "outputs": [],
   "source": [
    "sharpen = mat.copy()\n",
    "gaussian = cv2.GaussianBlur(sharpen, (9,9), 10.0)\n",
    "sharpen = cv2.addWeighted(sharpen, 1.5, gaussian, -0.5, 0, sharpen)\n",
    "imshow(sharpen)"
   ]
  },
  {
   "cell_type": "code",
   "execution_count": null,
   "metadata": {},
   "outputs": [],
   "source": [
    "b,g,r = cv2.split(mat)\n",
    "imshow(g)"
   ]
  },
  {
   "cell_type": "code",
   "execution_count": null,
   "metadata": {},
   "outputs": [],
   "source": [
    "imshow(r)"
   ]
  },
  {
   "cell_type": "code",
   "execution_count": null,
   "metadata": {},
   "outputs": [],
   "source": [
    "imshow(b)"
   ]
  },
  {
   "cell_type": "code",
   "execution_count": null,
   "metadata": {},
   "outputs": [],
   "source": [
    "b,g,r = cv2.split(mat)\n",
    "#imshow(original)\n",
    "linhas, colunas = g.shape\n",
    "newTest = g.copy()\n",
    "pixel = 0\n",
    "for i in range(linhas):\n",
    "    for j in range(colunas):\n",
    "        \n",
    "        pixel = int(g[i,j]) - int(r[i,j])\n",
    "        if pixel<20:\n",
    "            newTest[i,j] = 0\n",
    "        else:\n",
    "            newTest[i,j] = 2*pixel\n",
    "imshow(newTest)"
   ]
  },
  {
   "cell_type": "code",
   "execution_count": null,
   "metadata": {},
   "outputs": [],
   "source": [
    "contour = g.copy()\n",
    "contours = cv2.findContours(newTest, cv2.RETR_TREE, cv2.CHAIN_APPROX_SIMPLE)\n",
    "#imshow(original)   \n",
    "for i in range(linhas):\n",
    "    for j in range(colunas):\n",
    "        contour[i,j] = 0\n",
    "\n",
    "cnts = imutils.grab_contours(contours)\n",
    "c = max(cnts, key=cv2.contourArea) \n",
    "\n",
    "cv2.drawContours(contour, [c], -1, (255, 0, 0),  2)\n",
    "cv2.imwrite(\"/Users/joseluis/Downloads/contour.png\", contour)\n",
    "\n",
    "imshow(contour)"
   ]
  },
  {
   "cell_type": "code",
   "execution_count": null,
   "metadata": {},
   "outputs": [],
   "source": [
    "#ret,img = cv2.threshold(newTest,220,255,cv2.THRESH_BINARY)\n",
    "img = cv2.bitwise_and(r, contour)\n",
    "# cv2.imshow(\"Erode\", img)\n",
    "# cv2.waitKey(1)\n",
    "imshow(img)"
   ]
  },
  {
   "cell_type": "code",
   "execution_count": null,
   "metadata": {},
   "outputs": [],
   "source": [
    "#ret,img = cv2.threshold(img,270,255,cv2.THRESH_BINARY)\n",
    "#img = cv2.bitwise_and(b, contour)\n",
    "img = cv2.Canny(img,600,700)\n",
    "imshow(img) "
   ]
  },
  {
   "cell_type": "code",
   "execution_count": null,
   "metadata": {},
   "outputs": [],
   "source": [
    "img = cv2.morphologyEx(img, cv2.MORPH_CLOSE, cv2.getStructuringElement(cv2.MORPH_RECT,(9,9)))\n",
    "#img = cv2.morphologyEx(contour, cv2.MORPH_CLOSE, cv2.getStructuringElement(cv2.MORPH_RECT,(3,3)))\n",
    "imshow(img) "
   ]
  },
  {
   "cell_type": "code",
   "execution_count": null,
   "metadata": {},
   "outputs": [],
   "source": [
    "y, x, img = lastPoint(img)\n",
    "imshow(img)"
   ]
  },
  {
   "cell_type": "code",
   "execution_count": null,
   "metadata": {},
   "outputs": [],
   "source": [
    "cv2.imshow(\"Erode\", img)\n",
    "cv2.waitKey(1)\n",
    "cv2.destroyAllWindows()"
   ]
  }
 ],
 "metadata": {
  "kernelspec": {
   "display_name": "Python 3",
   "language": "python",
   "name": "python3"
  },
  "language_info": {
   "codemirror_mode": {
    "name": "ipython",
    "version": 3
   },
   "file_extension": ".py",
   "mimetype": "text/x-python",
   "name": "python",
   "nbconvert_exporter": "python",
   "pygments_lexer": "ipython3",
   "version": "3.7.4"
  }
 },
 "nbformat": 4,
 "nbformat_minor": 4
}
